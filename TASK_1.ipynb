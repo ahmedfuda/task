{
 "cells": [
  {
   "cell_type": "code",
   "execution_count": 35,
   "id": "2b579a59-bf04-445f-8f4c-1c5f4e3df637",
   "metadata": {},
   "outputs": [
    {
     "name": "stdout",
     "output_type": "stream",
     "text": [
      "     f1   f2   f3\n",
      "0   5.0  2.0  3.0\n",
      "1   NaN  NaN  4.0\n",
      "2  -3.0  2.0  1.0\n",
      "3   8.0  NaN  4.0\n",
      "4  10.0  NaN  5.0\n"
     ]
    }
   ],
   "source": [
    "import numpy as np\n",
    "import pandas as pd\n",
    "x = pd.DataFrame(np.array([5,2,3,np.NaN,np.NaN,4,-3,2,1,8,np.NaN,4,10,np.NaN,5]).reshape(5,3))\n",
    "x.columns = ['f1','f2','f3']\n",
    "print(x)"
   ]
  },
  {
   "cell_type": "code",
   "execution_count": 37,
   "id": "5837fed8-a1da-413d-88bb-7903f1f3a52c",
   "metadata": {},
   "outputs": [
    {
     "data": {
      "text/plain": [
       "f1    1\n",
       "f2    3\n",
       "f3    0\n",
       "dtype: int64"
      ]
     },
     "execution_count": 37,
     "metadata": {},
     "output_type": "execute_result"
    }
   ],
   "source": [
    "x.isnull().sum()"
   ]
  },
  {
   "cell_type": "code",
   "execution_count": 39,
   "id": "02c8b9da-2b1e-4880-8821-e4bcb8b60d95",
   "metadata": {},
   "outputs": [
    {
     "data": {
      "text/plain": [
       "4"
      ]
     },
     "execution_count": 39,
     "metadata": {},
     "output_type": "execute_result"
    }
   ],
   "source": [
    "x.isnull().sum().sum()"
   ]
  },
  {
   "cell_type": "code",
   "execution_count": 41,
   "id": "52f2e478-899f-40f0-98e1-f50cbe12bcf0",
   "metadata": {},
   "outputs": [
    {
     "name": "stdout",
     "output_type": "stream",
     "text": [
      "      a1     a2\n",
      "0  False  False\n",
      "1   True   True\n",
      "2  False  False\n",
      "3  False   True\n",
      "4  False   True\n"
     ]
    }
   ],
   "source": [
    "from sklearn.impute import MissingIndicator\n",
    "indicator = MissingIndicator(missing_values=np.NaN)\n",
    "indicator = indicator.fit_transform(x)\n",
    "indicator = pd.DataFrame(indicator,columns=['a1','a2'])\n",
    "print(indicator)"
   ]
  },
  {
   "cell_type": "code",
   "execution_count": 43,
   "id": "0a37c764-0550-4802-8f0d-4f83078133ad",
   "metadata": {},
   "outputs": [
    {
     "name": "stdout",
     "output_type": "stream",
     "text": [
      "     f1   f2   f3\n",
      "0   5.0  2.0  3.0\n",
      "1   5.0  2.0  4.0\n",
      "2  -3.0  2.0  1.0\n",
      "3   8.0  2.0  4.0\n",
      "4  10.0  2.0  5.0\n"
     ]
    }
   ],
   "source": [
    "from sklearn.impute import SimpleImputer\n",
    "imp = SimpleImputer(missing_values=np.NaN, strategy='mean')\n",
    "x = pd.DataFrame(imp.fit_transform(x))\n",
    "x.columns = ['f1','f2','f3']\n",
    "print(x)"
   ]
  },
  {
   "cell_type": "code",
   "execution_count": 45,
   "id": "da2295c9-067f-404d-8a11-bb695373a014",
   "metadata": {},
   "outputs": [
    {
     "name": "stdout",
     "output_type": "stream",
     "text": [
      "   index    f1   f2   f3\n",
      "0      0   5.0  2.0  3.0\n",
      "1      1   5.0  2.0  4.0\n",
      "2      2  -3.0  2.0  1.0\n",
      "3      3   8.0  2.0  4.0\n",
      "4      4  10.0  2.0  5.0\n"
     ]
    }
   ],
   "source": [
    "df = x.dropna(axis=1)\n",
    "df.reset_index(inplace=True)\n",
    "print(df)"
   ]
  }
 ],
 "metadata": {
  "kernelspec": {
   "display_name": "Python 3 (ipykernel)",
   "language": "python",
   "name": "python3"
  },
  "language_info": {
   "codemirror_mode": {
    "name": "ipython",
    "version": 3
   },
   "file_extension": ".py",
   "mimetype": "text/x-python",
   "name": "python",
   "nbconvert_exporter": "python",
   "pygments_lexer": "ipython3",
   "version": "3.12.4"
  }
 },
 "nbformat": 4,
 "nbformat_minor": 5
}
